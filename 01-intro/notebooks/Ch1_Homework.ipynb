{
 "cells": [
  {
   "cell_type": "markdown",
   "metadata": {},
   "source": [
    "# Question 1 - What version of pandas is it?"
   ]
  },
  {
   "cell_type": "code",
   "execution_count": 31,
   "metadata": {},
   "outputs": [
    {
     "name": "stdout",
     "output_type": "stream",
     "text": [
      "We are using Pandas version ...  2.0.3\n"
     ]
    }
   ],
   "source": [
    "import pandas as pd\n",
    "print(\"We are using Pandas version ... \", pd.__version__)"
   ]
  },
  {
   "cell_type": "markdown",
   "metadata": {},
   "source": [
    "# Question 2 - How many columns are in the dataset?"
   ]
  },
  {
   "cell_type": "code",
   "execution_count": 67,
   "metadata": {},
   "outputs": [
    {
     "name": "stdout",
     "output_type": "stream",
     "text": [
      "There are  10 columns\n"
     ]
    }
   ],
   "source": [
    "df = pd.read_csv(\"housing.csv\")\n",
    "print(\"There are \", len(df.columns), \"columns\")"
   ]
  },
  {
   "cell_type": "markdown",
   "metadata": {},
   "source": [
    "# Question 3 - Which columns in the dataset have missing values?"
   ]
  },
  {
   "cell_type": "code",
   "execution_count": 33,
   "metadata": {},
   "outputs": [
    {
     "name": "stdout",
     "output_type": "stream",
     "text": [
      "total_bedrooms    207\n",
      "dtype: int64\n"
     ]
    }
   ],
   "source": [
    "a = df.isna().sum()\n",
    "a_idx = a > 0\n",
    "NaN_a = a[a_idx]\n",
    "print (NaN_a)"
   ]
  },
  {
   "cell_type": "markdown",
   "metadata": {},
   "source": [
    "# Question 4 - How many unique values does the ocean_proximity column have?"
   ]
  },
  {
   "cell_type": "code",
   "execution_count": 34,
   "metadata": {},
   "outputs": [
    {
     "name": "stdout",
     "output_type": "stream",
     "text": [
      "5  unique values\n"
     ]
    }
   ],
   "source": [
    "a = df['ocean_proximity'].unique()\n",
    "print(len(a),\" unique values\")"
   ]
  },
  {
   "cell_type": "markdown",
   "metadata": {},
   "source": [
    "# Question 5 - What's the average value of the median_house_value for the houses located near the bay?"
   ]
  },
  {
   "cell_type": "code",
   "execution_count": 35,
   "metadata": {},
   "outputs": [
    {
     "name": "stdout",
     "output_type": "stream",
     "text": [
      "Index(['longitude', 'latitude', 'housing_median_age', 'total_rooms',\n",
      "       'total_bedrooms', 'population', 'households', 'median_income',\n",
      "       'median_house_value', 'ocean_proximity'],\n",
      "      dtype='object')\n",
      "259212.31179039303\n"
     ]
    }
   ],
   "source": [
    "print(df.columns)\n",
    "df_NearBay = df[df['ocean_proximity'] == 'NEAR BAY']\n",
    "print(df_NearBay['median_house_value'].mean())"
   ]
  },
  {
   "cell_type": "markdown",
   "metadata": {},
   "source": [
    "# Question 6\n",
    "* Calculate the average of total_bedrooms column in the dataset.\n",
    "* Use the fillna method to fill the missing values in total_bedrooms with the mean value from the previous step.\n",
    "* Now, calculate the average of total_bedrooms again.\n",
    "* Has it changed?"
   ]
  },
  {
   "cell_type": "code",
   "execution_count": 36,
   "metadata": {},
   "outputs": [
    {
     "name": "stdout",
     "output_type": "stream",
     "text": [
      "Average total number of bedrooms:  537.8705525375618\n",
      "New average total number of bedrooms:  537.8705525375617\n",
      "1.1368683772161603e-13\n"
     ]
    }
   ],
   "source": [
    "# Calculate average number of bedrooms\n",
    "Av_Total_Bedrooms = df['total_bedrooms'].mean()\n",
    "print(\"Average total number of bedrooms: \", Av_Total_Bedrooms)\n",
    "\n",
    "# Replace values\n",
    "df['total_bedrooms'] = df['total_bedrooms'].fillna(Av_Total_Bedrooms)\n",
    "\n",
    "# Calculate new mean \n",
    "Av_Total_Bedrooms2 = df['total_bedrooms'].mean()\n",
    "print(\"New average total number of bedrooms: \", Av_Total_Bedrooms2)\n",
    "\n",
    "#Print difference\n",
    "print(Av_Total_Bedrooms - Av_Total_Bedrooms2)\n"
   ]
  },
  {
   "cell_type": "markdown",
   "metadata": {},
   "source": [
    "# Question 7\n",
    "1. Select all the options located on islands.\n",
    "2. Select only columns housing_median_age, total_rooms, total_bedrooms.\n",
    "3. Get the underlying NumPy array. Let's call it X.\n",
    "4. Compute matrix-matrix multiplication between the transpose of X and X. To get the transpose, use X.T. Let's call the result XTX.\n",
    "5. Compute the inverse of XTX.\n",
    "6. Create an array y with values [950, 1300, 800, 1000, 1300].\n",
    "7. Multiply the inverse of XTX with the transpose of X, and then multiply the result by y. Call the result w.\n",
    "8. What's the value of the last element of w?"
   ]
  },
  {
   "cell_type": "code",
   "execution_count": 84,
   "metadata": {},
   "outputs": [
    {
     "name": "stdout",
     "output_type": "stream",
     "text": [
      "      housing_median_age  total_rooms  total_bedrooms\n",
      "8314                27.0       1675.0           521.0\n",
      "8315                52.0       2359.0           591.0\n",
      "8316                52.0       2127.0           512.0\n",
      "8317                52.0        996.0           264.0\n",
      "8318                29.0        716.0           214.0\n",
      "\n",
      " [[  27. 1675.  521.]\n",
      " [  52. 2359.  591.]\n",
      " [  52. 2127.  512.]\n",
      " [  52.  996.  264.]\n",
      " [  29.  716.  214.]] \n",
      "\n",
      "Transpose of X :\n",
      " [[  27.   52.   52.   52.   29.]\n",
      " [1675. 2359. 2127.  996.  716.]\n",
      " [ 521.  591.  512.  264.  214.]] \n",
      "\n",
      "XTX is \n",
      " [[9.6820000e+03 3.5105300e+05 9.1357000e+04]\n",
      " [3.5105300e+05 1.4399307e+07 3.7720360e+06]\n",
      " [9.1357000e+04 3.7720360e+06 9.9835800e+05]] \n",
      "\n",
      "XTX inverse: \n",
      " [[ 9.19403586e-04 -3.66412216e-05  5.43072261e-05]\n",
      " [-3.66412216e-05  8.23303633e-06 -2.77534485e-05]\n",
      " [ 5.43072261e-05 -2.77534485e-05  1.00891325e-04]] \n",
      "\n",
      "y values:  [ 950 1300  800 1000 1300]\n",
      "[23.12330961 -1.48124183  5.69922946]\n",
      "5.699229455065565\n"
     ]
    }
   ],
   "source": [
    "import numpy as np\n",
    "\n",
    "# Select all the options located on Islands\n",
    "df_Islands = df[df['ocean_proximity'] == 'ISLAND']\n",
    "\n",
    "# Select only columns: housing_median_age, total_rooms, and total_bedrooms\n",
    "df_Islands_F = df_Islands[['housing_median_age','total_rooms','total_bedrooms']]\n",
    "print(df_Islands_F)\n",
    "\n",
    "# Convert to numpy array X\n",
    "X = df_Islands_F.to_numpy()\n",
    "print('\\n',X,'\\n')\n",
    "\n",
    "# Matrix-Matrix multiplication between X and its transpose(XT) to get XTX\n",
    "XT = X.T\n",
    "print(\"Transpose of X :\\n\",XT,'\\n')\n",
    "\n",
    "XTX = XT.dot(X)\n",
    "print('XTX is \\n',XTX,'\\n')\n",
    "\n",
    "# Compute the inverse of XTX\n",
    "iXTX = np.linalg.inv(XTX)\n",
    "print ('XTX inverse: \\n',iXTX,'\\n')\n",
    "\n",
    "# Create an array y with values [950, 1300, 800, 1000, 1300]\n",
    "y = np.array([950, 1300, 800, 1000, 1300])\n",
    "print('y values: ',y)\n",
    "\n",
    "# Multiply the inverse of XTX with the transpose of X and then multiply the result by y. Call this w\n",
    "v = iXTX.dot(XT)\n",
    "w = v.dot(y)\n",
    "\n",
    "print(w)\n",
    "\n",
    "# What's the value of the last element in w?\n",
    "print(w[-1])"
   ]
  }
 ],
 "metadata": {
  "kernelspec": {
   "display_name": "ml-zoomcamp",
   "language": "python",
   "name": "python3"
  },
  "language_info": {
   "codemirror_mode": {
    "name": "ipython",
    "version": 3
   },
   "file_extension": ".py",
   "mimetype": "text/x-python",
   "name": "python",
   "nbconvert_exporter": "python",
   "pygments_lexer": "ipython3",
   "version": "3.10.13"
  },
  "orig_nbformat": 4
 },
 "nbformat": 4,
 "nbformat_minor": 2
}

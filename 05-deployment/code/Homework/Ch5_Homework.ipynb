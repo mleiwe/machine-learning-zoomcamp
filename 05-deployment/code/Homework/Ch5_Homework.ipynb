{
 "cells": [
  {
   "cell_type": "markdown",
   "metadata": {},
   "source": [
    "## Homework\n",
    "\n",
    "In this homework, we will use Bank credit scoring dataset from [here](https://www.kaggle.com/datasets/kapturovalexander/bank-credit-scoring/data).\n",
    "\n",
    "> **Note**: sometimes your answer doesn't match one of the options exactly. That's fine. \n",
    "Select the option that's closest to your solution.\n",
    "\n",
    "> **Note**: we recommend using python 3.10 in this homework."
   ]
  },
  {
   "cell_type": "markdown",
   "metadata": {},
   "source": [
    "## Question 1\n",
    "\n",
    "* Install Pipenv\n",
    "* What's the version of pipenv you installed?\n",
    "* Use `--version` to find out"
   ]
  },
  {
   "cell_type": "code",
   "execution_count": null,
   "metadata": {},
   "outputs": [
    {
     "name": "stdout",
     "output_type": "stream",
     "text": [
      "Requirement already satisfied: pipenv in /Users/marcusleiwe/anaconda3/envs/Ch5_MLzoomcamp/lib/python3.10/site-packages (2023.10.3)\n",
      "Requirement already satisfied: certifi in /Users/marcusleiwe/anaconda3/envs/Ch5_MLzoomcamp/lib/python3.10/site-packages (from pipenv) (2023.7.22)\n",
      "Requirement already satisfied: setuptools>=67 in /Users/marcusleiwe/anaconda3/envs/Ch5_MLzoomcamp/lib/python3.10/site-packages (from pipenv) (68.0.0)\n",
      "Requirement already satisfied: virtualenv>=20.24.2 in /Users/marcusleiwe/anaconda3/envs/Ch5_MLzoomcamp/lib/python3.10/site-packages (from pipenv) (20.24.5)\n",
      "Requirement already satisfied: distlib<1,>=0.3.7 in /Users/marcusleiwe/anaconda3/envs/Ch5_MLzoomcamp/lib/python3.10/site-packages (from virtualenv>=20.24.2->pipenv) (0.3.7)\n",
      "Requirement already satisfied: filelock<4,>=3.12.2 in /Users/marcusleiwe/anaconda3/envs/Ch5_MLzoomcamp/lib/python3.10/site-packages (from virtualenv>=20.24.2->pipenv) (3.12.4)\n",
      "Requirement already satisfied: platformdirs<4,>=3.9.1 in /Users/marcusleiwe/anaconda3/envs/Ch5_MLzoomcamp/lib/python3.10/site-packages (from virtualenv>=20.24.2->pipenv) (3.11.0)\n",
      "\u001b[1mpipenv\u001b[0m, version 2023.10.3\n"
     ]
    }
   ],
   "source": [
    "# Install a pip package in the current Jupyter kernel\n",
    "import sys\n",
    "import json\n",
    "!{sys.executable} -m pip install pipenv\n",
    "! pipenv --version\n"
   ]
  },
  {
   "cell_type": "markdown",
   "metadata": {},
   "source": [
    "pipenv, version 2023.10.3"
   ]
  },
  {
   "cell_type": "markdown",
   "metadata": {},
   "source": [
    "## Question 2\n",
    "\n",
    "* Use Pipenv to install Scikit-Learn version 1.3.1\n",
    "* What's the first hash for scikit-learn you get in Pipfile.lock?\n",
    "--> \"sha256:0c275a06c5190c5ce00af0acbb61c06374087949f643ef32d355ece12c4db043\"\n",
    "\n",
    "> **Note**: you should create an empty folder for homework\n",
    "and do it there. "
   ]
  },
  {
   "cell_type": "code",
   "execution_count": null,
   "metadata": {},
   "outputs": [
    {
     "name": "stdout",
     "output_type": "stream",
     "text": [
      "\u001b[1;32mInstalling scikit-\u001b[0m\u001b[1;33mlearn\u001b[0m\u001b[1;32m==\u001b[0m\u001b[1;36m1.3\u001b[0m\u001b[1;32m.\u001b[0m\u001b[1;36m1\u001b[0m\u001b[1;33m...\u001b[0m\n",
      "\u001b[?25lResolving scikit-\u001b[33mlearn\u001b[0m==\u001b[1;36m1.3\u001b[0m.\u001b[1;36m1\u001b[0m\u001b[33m...\u001b[0m\n",
      "\u001b[2K✔ Installation Succeeded\n",
      "\u001b[2K\u001b[32m⠋\u001b[0m Installing scikit-learn...\n",
      "\u001b[1A\u001b[2K\u001b[1mInstalling dependencies from Pipfile.lock \u001b[0m\u001b[1m(\u001b[0m\u001b[1ma4b71e\u001b[0m\u001b[1m)\u001b[0m\u001b[1;33m...\u001b[0m\n",
      "To activate this project's virtualenv, run \u001b[33mpipenv shell\u001b[0m.\n",
      "Alternatively, run a command inside the virtualenv with \u001b[33mpipenv run\u001b[0m.\n"
     ]
    }
   ],
   "source": [
    "!{sys.executable} -m pipenv install scikit-learn==1.3.1"
   ]
  },
  {
   "cell_type": "code",
   "execution_count": 1,
   "metadata": {},
   "outputs": [
    {
     "ename": "FileNotFoundError",
     "evalue": "[Errno 2] No such file or directory: '/Pipfile.lock'",
     "output_type": "error",
     "traceback": [
      "\u001b[0;31m---------------------------------------------------------------------------\u001b[0m",
      "\u001b[0;31mFileNotFoundError\u001b[0m                         Traceback (most recent call last)",
      "\u001b[1;32m/Users/marcusleiwe/Documents/GitHubRepos/machine-learning-zoomcamp/05-deployment/code/Homework/Ch5_Homework.ipynb Cell 7\u001b[0m line \u001b[0;36m1\n\u001b[0;32m----> <a href='vscode-notebook-cell:/Users/marcusleiwe/Documents/GitHubRepos/machine-learning-zoomcamp/05-deployment/code/Homework/Ch5_Homework.ipynb#W6sZmlsZQ%3D%3D?line=0'>1</a>\u001b[0m \u001b[39mwith\u001b[39;00m \u001b[39mopen\u001b[39;49m(\u001b[39m\"\u001b[39;49m\u001b[39m/Pipfile.lock\u001b[39;49m\u001b[39m\"\u001b[39;49m) \u001b[39mas\u001b[39;00m infile:\n\u001b[1;32m      <a href='vscode-notebook-cell:/Users/marcusleiwe/Documents/GitHubRepos/machine-learning-zoomcamp/05-deployment/code/Homework/Ch5_Homework.ipynb#W6sZmlsZQ%3D%3D?line=1'>2</a>\u001b[0m     \u001b[39mprint\u001b[39m(json\u001b[39m.\u001b[39mloads(infile\u001b[39m.\u001b[39mread())[\u001b[39m\"\u001b[39m\u001b[39mdefault\u001b[39m\u001b[39m\"\u001b[39m][\u001b[39m\"\u001b[39m\u001b[39mscikit-learn\u001b[39m\u001b[39m\"\u001b[39m][\u001b[39m\"\u001b[39m\u001b[39mhashes\u001b[39m\u001b[39m\"\u001b[39m][\u001b[39m0\u001b[39m])\n",
      "File \u001b[0;32m~/anaconda3/envs/Ch5_MLzoomcamp/lib/python3.10/site-packages/IPython/core/interactiveshell.py:286\u001b[0m, in \u001b[0;36m_modified_open\u001b[0;34m(file, *args, **kwargs)\u001b[0m\n\u001b[1;32m    279\u001b[0m \u001b[39mif\u001b[39;00m file \u001b[39min\u001b[39;00m {\u001b[39m0\u001b[39m, \u001b[39m1\u001b[39m, \u001b[39m2\u001b[39m}:\n\u001b[1;32m    280\u001b[0m     \u001b[39mraise\u001b[39;00m \u001b[39mValueError\u001b[39;00m(\n\u001b[1;32m    281\u001b[0m         \u001b[39mf\u001b[39m\u001b[39m\"\u001b[39m\u001b[39mIPython won\u001b[39m\u001b[39m'\u001b[39m\u001b[39mt let you open fd=\u001b[39m\u001b[39m{\u001b[39;00mfile\u001b[39m}\u001b[39;00m\u001b[39m by default \u001b[39m\u001b[39m\"\u001b[39m\n\u001b[1;32m    282\u001b[0m         \u001b[39m\"\u001b[39m\u001b[39mas it is likely to crash IPython. If you know what you are doing, \u001b[39m\u001b[39m\"\u001b[39m\n\u001b[1;32m    283\u001b[0m         \u001b[39m\"\u001b[39m\u001b[39myou can use builtins\u001b[39m\u001b[39m'\u001b[39m\u001b[39m open.\u001b[39m\u001b[39m\"\u001b[39m\n\u001b[1;32m    284\u001b[0m     )\n\u001b[0;32m--> 286\u001b[0m \u001b[39mreturn\u001b[39;00m io_open(file, \u001b[39m*\u001b[39;49margs, \u001b[39m*\u001b[39;49m\u001b[39m*\u001b[39;49mkwargs)\n",
      "\u001b[0;31mFileNotFoundError\u001b[0m: [Errno 2] No such file or directory: '/Pipfile.lock'"
     ]
    }
   ],
   "source": [
    "with open(\"/Pipfile.lock\") as infile:\n",
    "    print(json.loads(infile.read())[\"default\"][\"scikit-learn\"][\"hashes\"][0])"
   ]
  },
  {
   "cell_type": "markdown",
   "metadata": {},
   "source": [
    "sha256:0c275a06c5190c5ce00af0acbb61c06374087949f643ef32d355ece12c4db043\n",
    "\n",
    "## Models\n",
    "\n",
    "We've prepared a dictionary vectorizer and a model.\n",
    "\n",
    "They were trained (roughly) using this code:\n",
    "\n",
    "```python\n",
    "features = ['job','duration', 'poutcome']\n",
    "dicts = df[features].to_dict(orient='records')\n",
    "\n",
    "dv = DictVectorizer(sparse=False)\n",
    "X = dv.fit_transform(dicts)\n",
    "\n",
    "model = LogisticRegression().fit(X, y)\n",
    "```\n",
    "\n",
    "> **Note**: You don't need to train the model. This code is just for your reference.\n",
    "\n",
    "And then saved with Pickle. Download them:\n",
    "\n",
    "* [DictVectorizer](https://github.com/DataTalksClub/machine-learning-zoomcamp/tree/master/cohorts/2023/05-deployment/homework/dv.bin?raw=true)\n",
    "* [LogisticRegression](https://github.com/DataTalksClub/machine-learning-zoomcamp/tree/master/cohorts/2023/05-deployment/homework/model1.bin?raw=true)\n",
    "\n",
    "With `wget`:\n",
    "\n",
    "```bash\n",
    "PREFIX=https://raw.githubusercontent.com/DataTalksClub/machine-learning-zoomcamp/master/cohorts/2023/05-deployment/homework\n",
    "wget $PREFIX/model1.bin\n",
    "wget $PREFIX/dv.bin\n",
    "```"
   ]
  },
  {
   "cell_type": "markdown",
   "metadata": {},
   "source": [
    "## Question 3\n",
    "\n",
    "Let's use these models!\n",
    "\n",
    "* Write a script for loading these models with pickle\n",
    "* Score this client:\n",
    "\n",
    "```json\n",
    "{\"job\": \"retired\", \"duration\": 445, \"poutcome\": \"success\"}\n",
    "```\n",
    "\n",
    "What's the probability that this client will get a credit? \n",
    "\n",
    "* 0.162\n",
    "* 0.392\n",
    "* 0.652\n",
    "* 0.902\n",
    "\n",
    "If you're getting errors when unpickling the files, check their checksum:\n",
    "\n",
    "```bash\n",
    "$ md5sum model1.bin dv.bin\n",
    "8ebfdf20010cfc7f545c43e3b52fc8a1  model1.bin\n",
    "924b496a89148b422c74a62dbc92a4fb  dv.bin\n",
    "```"
   ]
  },
  {
   "cell_type": "code",
   "execution_count": 27,
   "metadata": {},
   "outputs": [
    {
     "name": "stdout",
     "output_type": "stream",
     "text": [
      "{'Credit_prob': 0.9019309332297606, 'Give_Credit': True}\n"
     ]
    }
   ],
   "source": [
    "## Sript to load these models with pickle then predict\n",
    "\n",
    "#Libraries and external functions\n",
    "import pickle\n",
    "\n",
    "# Load dictionary vectoriser and model file\n",
    "dv_file = 'dv.bin'\n",
    "model_file = 'model1.bin'\n",
    "\n",
    "with open(dv_file, 'rb') as f_in:\n",
    "    dv = pickle.load(f_in)\n",
    "\n",
    "with open(model_file, 'rb') as f_in:\n",
    "    model = pickle.load(f_in)\n",
    "\n",
    "Client = {\"job\": \"retired\", \"duration\": 445, \"poutcome\": \"success\"}\n",
    "\n",
    "def pred_Credit(Client):\n",
    "    X = dv.transform(Client)\n",
    "    y_pred = model.predict_proba(X)[0,1]\n",
    "    Credit = y_pred >= 0.5\n",
    "\n",
    "    #Now output into ditionary\n",
    "    result = {'Credit_prob': float(y_pred),\n",
    "              'Give_Credit': bool(Credit)}\n",
    "    return result\n",
    "\n",
    "print(pred_Credit(Client))\n"
   ]
  },
  {
   "cell_type": "markdown",
   "metadata": {},
   "source": [
    "Answer is 0.902"
   ]
  },
  {
   "cell_type": "markdown",
   "metadata": {},
   "source": [
    "## Question 4\n",
    "\n",
    "Now let's serve this model as a web service\n",
    "\n",
    "* Install Flask and gunicorn (or waitress, if you're on Windows)\n",
    "* Write Flask code for serving the model\n",
    "* Now score this client using `requests`:\n",
    "\n",
    "```python\n",
    "url = \"YOUR_URL\"\n",
    "client = {\"job\": \"unknown\", \"duration\": 270, \"poutcome\": \"failure\"}\n",
    "requests.post(url, json=client).json()\n",
    "```\n",
    "\n",
    "What's the probability that this client will get a credit?\n",
    "\n",
    "* 0.140\n",
    "* 0.440\n",
    "* 0.645\n",
    "* 0.845\n",
    "\n",
    "\n",
    "## Docker\n",
    "\n",
    "Install [Docker](https://github.com/DataTalksClub/machine-learning-zoomcamp/blob/master/05-deployment/06-docker.md). \n",
    "We will use it for the next two questions.\n",
    "\n",
    "For these questions, we prepared a base image: `svizor/zoomcamp-model:3.10.12-slim`. \n",
    "You'll need to use it (see Question 5 for an example).\n",
    "\n",
    "This image is based on `python:3.10.12-slim` and has a logistic regression model \n",
    "(a different one) as well a dictionary vectorizer inside. \n",
    "\n",
    "This is how the Dockerfile for this image looks like:\n",
    "\n",
    "```docker \n",
    "FROM python:3.10.12-slim\n",
    "WORKDIR /app\n",
    "COPY [\"model2.bin\", \"dv.bin\", \"./\"]\n",
    "```\n",
    "\n",
    "We already built it and then pushed it to [`svizor/zoomcamp-model:3.10.12-slim`](https://hub.docker.com/r/svizor/zoomcamp-model).\n",
    "\n",
    "> **Note**: You don't need to build this docker image, it's just for your reference."
   ]
  },
  {
   "cell_type": "code",
   "execution_count": 28,
   "metadata": {},
   "outputs": [
    {
     "name": "stdout",
     "output_type": "stream",
     "text": [
      " * Serving Flask app 'predict'\n",
      " * Debug mode: on\n"
     ]
    },
    {
     "name": "stderr",
     "output_type": "stream",
     "text": [
      "\u001b[31m\u001b[1mWARNING: This is a development server. Do not use it in a production deployment. Use a production WSGI server instead.\u001b[0m\n",
      " * Running on all addresses (0.0.0.0)\n",
      " * Running on http://127.0.0.1:9696\n",
      " * Running on http://192.168.0.18:9696\n",
      "\u001b[33mPress CTRL+C to quit\u001b[0m\n",
      " * Restarting with stat\n",
      "Traceback (most recent call last):\n",
      "  File \"/Users/marcusleiwe/anaconda3/envs/Ch5_MLzoomcamp/lib/python3.10/site-packages/ipykernel_launcher.py\", line 17, in <module>\n",
      "    app.launch_new_instance()\n",
      "  File \"/Users/marcusleiwe/anaconda3/envs/Ch5_MLzoomcamp/lib/python3.10/site-packages/traitlets/config/application.py\", line 1052, in launch_instance\n",
      "    app.initialize(argv)\n",
      "  File \"/Users/marcusleiwe/anaconda3/envs/Ch5_MLzoomcamp/lib/python3.10/site-packages/traitlets/config/application.py\", line 117, in inner\n",
      "    return method(app, *args, **kwargs)\n",
      "  File \"/Users/marcusleiwe/anaconda3/envs/Ch5_MLzoomcamp/lib/python3.10/site-packages/ipykernel/kernelapp.py\", line 689, in initialize\n",
      "    self.init_sockets()\n",
      "  File \"/Users/marcusleiwe/anaconda3/envs/Ch5_MLzoomcamp/lib/python3.10/site-packages/ipykernel/kernelapp.py\", line 328, in init_sockets\n",
      "    self.shell_port = self._bind_socket(self.shell_socket, self.shell_port)\n",
      "  File \"/Users/marcusleiwe/anaconda3/envs/Ch5_MLzoomcamp/lib/python3.10/site-packages/ipykernel/kernelapp.py\", line 252, in _bind_socket\n",
      "    return self._try_bind_socket(s, port)\n",
      "  File \"/Users/marcusleiwe/anaconda3/envs/Ch5_MLzoomcamp/lib/python3.10/site-packages/ipykernel/kernelapp.py\", line 228, in _try_bind_socket\n",
      "    s.bind(\"tcp://%s:%i\" % (self.ip, port))\n",
      "  File \"/Users/marcusleiwe/anaconda3/envs/Ch5_MLzoomcamp/lib/python3.10/site-packages/zmq/sugar/socket.py\", line 302, in bind\n",
      "    super().bind(addr)\n",
      "  File \"zmq/backend/cython/socket.pyx\", line 564, in zmq.backend.cython.socket.Socket.bind\n",
      "  File \"zmq/backend/cython/checkrc.pxd\", line 28, in zmq.backend.cython.checkrc._check_rc\n",
      "zmq.error.ZMQError: Address already in use (addr='tcp://127.0.0.1:9002')\n"
     ]
    },
    {
     "ename": "SystemExit",
     "evalue": "1",
     "output_type": "error",
     "traceback": [
      "An exception has occurred, use %tb to see the full traceback.\n",
      "\u001b[0;31mSystemExit\u001b[0m\u001b[0;31m:\u001b[0m 1\n"
     ]
    },
    {
     "name": "stderr",
     "output_type": "stream",
     "text": [
      "/Users/marcusleiwe/anaconda3/envs/Ch5_MLzoomcamp/lib/python3.10/site-packages/IPython/core/interactiveshell.py:3534: UserWarning: To exit: use 'exit', 'quit', or Ctrl-D.\n",
      "  warn(\"To exit: use 'exit', 'quit', or Ctrl-D.\", stacklevel=1)\n"
     ]
    }
   ],
   "source": [
    "#Libraries and external functions\n",
    "import pickle\n",
    "from flask import Flask, request, jsonify\n",
    "\n",
    "\n",
    "# Load dictionary vectoriser and model file\n",
    "dv_file = 'dv.bin'\n",
    "model_file = 'model1.bin'\n",
    "\n",
    "with open(dv_file, 'rb') as f_in:\n",
    "    dv = pickle.load(f_in)\n",
    "\n",
    "with open(model_file, 'rb') as f_in:\n",
    "    model = pickle.load(f_in)\n",
    "\n",
    "app = Flask('predict')\n",
    "\n",
    "@app.route('/predict', methods=['POST'])\n",
    "def predict():\n",
    "    client = request.get_json() #gets the value of the request as a JSON and turns it into a JSON\n",
    "    result = pred_Credit(client)\n",
    "    return jsonify(result)\n",
    "\n",
    "if __name__ == \"__main__\":\n",
    "    app.run(debug=True, host='0.0.0.0', port=9696)"
   ]
  },
  {
   "cell_type": "markdown",
   "metadata": {},
   "source": [
    "Now the script above is saved as `predict-test.py`. Run it in the terminal with `$python predict-test.py`"
   ]
  },
  {
   "cell_type": "code",
   "execution_count": 33,
   "metadata": {},
   "outputs": [
    {
     "name": "stdout",
     "output_type": "stream",
     "text": [
      "{'Credit_prob': 0.13968947052356817, 'Give_Credit': False}\n"
     ]
    }
   ],
   "source": [
    "import requests\n",
    "\n",
    "url = \"http://localhost:9696/predict\"\n",
    "client = {\"job\": \"unknown\", \"duration\": 270, \"poutcome\": \"failure\"}\n",
    "CreditQuery = requests.post(url, json=client).json()\n",
    "\n",
    "print(CreditQuery)"
   ]
  },
  {
   "cell_type": "markdown",
   "metadata": {},
   "source": [
    "Answer is {'Credit_prob': 0.13968947052356817, 'Give_Credit': False}\n",
    "\n",
    "Now it is working I can move from dev to prod by using gunicorn.\n",
    "In the terminal type `$gunicorn --bind 0.0.0.0:9696 predict-test:app` `--bind` specifies the application url, while `predict-test` is the name of the file, and `app` is the variable of interest\n",
    "\n",
    "Then test it again, it should work and give the same value as the cell above"
   ]
  },
  {
   "cell_type": "code",
   "execution_count": 19,
   "metadata": {},
   "outputs": [
    {
     "name": "stdout",
     "output_type": "stream",
     "text": [
      "{'Credit_prob': 0.13968947052356817, 'Give_Credit': False}\n"
     ]
    }
   ],
   "source": [
    "url = \"http://localhost:9696/predict\"\n",
    "client = {\"job\": \"unknown\", \"duration\": 270, \"poutcome\": \"failure\"}\n",
    "CreditQuery = requests.post(url, json=client).json()\n",
    "\n",
    "print(CreditQuery)"
   ]
  },
  {
   "cell_type": "markdown",
   "metadata": {},
   "source": [
    "## Question 5\n",
    "\n",
    "Download the base image `svizor/zoomcamp-model:3.10.12-slim`. You can easily make it by using [docker pull](https://docs.docker.com/engine/reference/commandline/pull/) command.\n",
    "\n",
    "So what's the size of this base image?\n",
    "\n",
    "* 47 MB\n",
    "* 147 MB\n",
    "* 374 MB\n",
    "* 574 MB\n",
    "\n",
    "You can get this information when running `docker images` - it'll be in the \"SIZE\" column."
   ]
  },
  {
   "cell_type": "code",
   "execution_count": 22,
   "metadata": {},
   "outputs": [
    {
     "name": "stdout",
     "output_type": "stream",
     "text": [
      "3.10.12-slim: Pulling from svizor/zoomcamp-model\n",
      "Digest: sha256:e8441100b9d8da56344f50c673eb2daded3c61ce9565e45c3592c02f34fb3149\n",
      "Status: Image is up to date for svizor/zoomcamp-model:3.10.12-slim\n",
      "docker.io/svizor/zoomcamp-model:3.10.12-slim\n",
      "\u001b[1m\n",
      "What's Next?\n",
      "\u001b[0m  View a summary of image vulnerabilities and recommendations → \u001b[36mdocker scout quickview svizor/zoomcamp-model:3.10.12-slim\u001b[0m\n",
      "REPOSITORY              TAG            IMAGE ID       CREATED      SIZE\n",
      "svizor/zoomcamp-model   3.10.12-slim   08266c8f0c4b   7 days ago   147MB\n"
     ]
    }
   ],
   "source": [
    "! docker pull svizor/zoomcamp-model:3.10.12-slim\n",
    "! docker images"
   ]
  },
  {
   "cell_type": "markdown",
   "metadata": {},
   "source": [
    "So the size is 147MB\n",
    "\n",
    "## Dockerfile\n",
    "\n",
    "Now create your own Dockerfile based on the image we prepared.\n",
    "\n",
    "It should start like that:\n",
    "\n",
    "```docker\n",
    "FROM svizor/zoomcamp-model:3.10.12-slim\n",
    "# add your stuff here\n",
    "```\n",
    "\n",
    "Now complete it:\n",
    "\n",
    "* Install all the dependencies form the Pipenv file\n",
    "* Copy your Flask script\n",
    "* Run it with Gunicorn \n",
    "\n",
    "After that, you can build your docker image."
   ]
  },
  {
   "cell_type": "markdown",
   "metadata": {},
   "source": [
    "Dockerfile can be found [here]()"
   ]
  },
  {
   "cell_type": "markdown",
   "metadata": {},
   "source": [
    "## Question 6\n",
    "\n",
    "Let's run your docker container!"
   ]
  },
  {
   "cell_type": "code",
   "execution_count": null,
   "metadata": {},
   "outputs": [],
   "source": [
    "! docker run -it --rm -p 9696:9696"
   ]
  },
  {
   "cell_type": "markdown",
   "metadata": {},
   "source": [
    "After running it, score this client once again:\n",
    "\n",
    "```python\n",
    "url = \"YOUR_URL\"\n",
    "client = {\"job\": \"retired\", \"duration\": 445, \"poutcome\": \"success\"}\n",
    "requests.post(url, json=client).json()\n",
    "```\n",
    "\n",
    "What's the probability that this client will get a credit now?\n",
    "\n",
    "* 0.168\n",
    "* 0.530\n",
    "* 0.730\n",
    "* 0.968\n",
    "\n",
    "\n",
    "## Submit the results\n",
    "\n",
    "- Submit your results here: https://forms.gle/gfruq6FGoLass3Ff9\n",
    "- If your answer doesn't match options exactly, select the closest one.\n",
    "- You can submit your solution multiple times. In this case, only the last submission will be used\n",
    "\n",
    "\n",
    "## Deadline\n",
    "\n",
    "The deadline for submitting is October 16 (Monday), 23:00 CET. After that the form will be closed."
   ]
  }
 ],
 "metadata": {
  "kernelspec": {
   "display_name": "ml-zoomcamp",
   "language": "python",
   "name": "python3"
  },
  "language_info": {
   "codemirror_mode": {
    "name": "ipython",
    "version": 3
   },
   "file_extension": ".py",
   "mimetype": "text/x-python",
   "name": "python",
   "nbconvert_exporter": "python",
   "pygments_lexer": "ipython3",
   "version": "3.10.13"
  },
  "orig_nbformat": 4
 },
 "nbformat": 4,
 "nbformat_minor": 2
}
